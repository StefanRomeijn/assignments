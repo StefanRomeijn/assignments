{
 "cells": [
  {
   "cell_type": "markdown",
   "metadata": {},
   "source": [
    "# Is managerial tone of voice influenced by macroeconomic circumstances?"
   ]
  },
  {
   "cell_type": "markdown",
   "metadata": {},
   "source": [
    "#### Jerome Crijns, Stefan Romeijn "
   ]
  },
  {
   "cell_type": "markdown",
   "metadata": {},
   "source": [
    "# Introduction"
   ]
  },
  {
   "cell_type": "code",
   "execution_count": 151,
   "metadata": {
    "scrolled": false
   },
   "outputs": [
    {
     "ename": "SyntaxError",
     "evalue": "invalid syntax (<ipython-input-151-0f6d4c2980af>, line 1)",
     "output_type": "error",
     "traceback": [
      "\u001b[1;36m  File \u001b[1;32m\"<ipython-input-151-0f6d4c2980af>\"\u001b[1;36m, line \u001b[1;32m1\u001b[0m\n\u001b[1;33m    pip install pandoc\u001b[0m\n\u001b[1;37m              ^\u001b[0m\n\u001b[1;31mSyntaxError\u001b[0m\u001b[1;31m:\u001b[0m invalid syntax\n"
     ]
    }
   ],
   "source": [
    "pip install pandoc\n",
    "\n",
    "pip install nbconvert\n",
    "\n",
    "jupyter nbconvert --to html Crijns, Romeijn.ipynb"
   ]
  },
  {
   "cell_type": "markdown",
   "metadata": {},
   "source": [
    "In our assignment, we zoom in on MD&As (Management Discussion & Analysis) - the part of a public company's annual report or 'Form 10-K' in which the management addresses current issues and future challenges. We are interested in linking these reports to macroeconomic circumstances (proxied by GDP) in the fiscal year prior to the time of writing. Hence, the question is whether the tone of language mentioned within these reports is (either negatively or positively) related to economic circumstances. The rationale here is that writing on future events may either signal trust and confidence, or might signal concerns towards the stakeholders.\n",
    "\n",
    "Thus, we hope to shed more light on this relationship. We will not investigate whether this relationship is negative or positive, but focus first and foremost on whether there exists a (statistically significant) linkage. Here, the GDP developments are the independent variable while the tone of language in the MD&As is the dependent variable. In order to retrieve the 10-K files relevant to our approach, we use the electronic filing system created by the SEC called EDGAR.\n",
    "As for macroeconomic circumstances, we consider GDP developments in the United States (https://data.worldbank.org/indicator/NY.GDP.MKTP.KD.ZG?locations=US). We focus on the period of 1994-2017, as the EDGAR database became available in 1994.\n",
    "\n",
    "Following previous literature (Muslu et al. 2011, Muslu et al. 2015) we describe these future-oriented words of interest as: “future”, “will”, “next month”, “next quarter”, “next year”, “next fiscal”, “next period”, “upcoming month”, “coming month”, “coming quarter”, “coming year”, “coming fiscal”, “subsequent month”, “subsequent quarter”, “subsequent year”, “subsequent fiscal”,  “following month”, “following quarter”, “following year” and “following fiscal”. Although of course not conclusive, these words may serve as a proxy for future orientation of MD&A.\n",
    "\n",
    "We find this research topic particularly interesting for this Python assignment, as it is generally difficult to automize search commands in a purely qualitative environment such as a firm's report. In the steps described below, we hope to clearly describe firstly this qualitative approach and secondly, to link it to the GDP developments in retrieving a linkage between both. Our key assumption here that if indeed we find a statistically significant relationship, this is immediately causal as well. We regard this as possible because GDP enables as-good-as-random selection; i.e. a firm has no influence on macroeconomic developments whatsoever, let alone the tone of voice applied by a manager in his MD&A."
   ]
  },
  {
   "cell_type": "markdown",
   "metadata": {},
   "source": [
    "# Approach"
   ]
  },
  {
   "cell_type": "markdown",
   "metadata": {},
   "source": [
    "In the file below, we have made splits within the file to make clear we are moving towards a new (type of) action. We provide a\n",
    "brief decription accompanying each of these new actions. \n",
    "\n",
    "Please note that we have two parts in this Python script: one in which we describe the steps in order to gather our data, and one in which we create insights based on this data gathered. This first part requires three additional plug-ins: requests, BeautifulSoup4, and docopt. We provide the command lines with which these plug-ins can be downloaded below. \n",
    "\n",
    "Also, before using the mdatool and 10ktool to search for the future-oriented keywords, you should download the database (EdgarSearch.py download). It will download years 1994 to 2017 by default. As this is an enormous bulk of data, please note that doing so is also accompanied with - in our experience - some two weeks of processing. Because of this huge processing time, and the external libraries mentioned before, although we provide the script for this step under \"a) Gathering the data\", the Jupyter Notebook does not in fact download the entire bulk of 10-K filings and MD&As. This is because Jupyter Notebook is the shell, while a program such as Atom in fact downloads the files to a directory on your pc (one could of course check this by trying the script in Atom).\n",
    "\n",
    "The script used to retrieve this data is based on another script found on Jupyter Notebook (https://github.com/iammrhelo/edgar-10k-mda/blob/master/edgar.py). Note that multiple lines of code are broken ( EXAMPLE XXX),  and not mentioning anything about the wordcount, which is the heart of our research. It has only provided us with input to retrieve the 10-K filings and MD&As.\n",
    "\n",
    "After the part of data gathering, we move on to the more interesting part: creating insights based on the MD&As. Finally, to answer our research question, we relate these insights to US data on GDP developments in the period of 1994 to 2017."
   ]
  },
  {
   "cell_type": "markdown",
   "metadata": {},
   "source": [
    "### a) Gathering the data"
   ]
  },
  {
   "cell_type": "markdown",
   "metadata": {},
   "source": [
    "These are the lines of code installing the external libraries, referred to in Approach."
   ]
  },
  {
   "cell_type": "markdown",
   "metadata": {},
   "source": [
    "import sys\n",
    "!{sys.executable} -m pip install docopt\n",
    "\n",
    "!{sys.executable} -m pip install requests\n",
    "\n",
    "!{sys.executable} -m pip install BeautifulSoup4\n",
    "\n",
    "!{sys.executable} -m pip install lxml"
   ]
  },
  {
   "cell_type": "markdown",
   "metadata": {},
   "source": [
    "To begin, we download the files relevant to our research and parse the exact aspects which we need. As we used from Stefan's computer, the directory refers to him.\n",
    " \n",
    "First command: download the index and download 10-K filings.\n",
    "    C:\\Users\\Stefan Romeijn\\Desktop\\Python opdracht\\EdgarSearch\\EdgarSearch>Python EdgarSearch.py download\n",
    "            \n",
    "Second command: parse MD&A from 10-K filings. Basically, this command separates item 7 - which is the MD&A - from the 10-K filing. It counts the words indicated in the command line below, which are described in line with Muslu et al. (2011, 2015). The output is structured in a CSV file, which was import as a pandas list.\n",
    "    C:\\Users\\Stefan Romeijn\\Desktop\\Python opdracht\\EdgarSearch\\EdgarSearch>Python EdgarSearch.py mdatool --keywords=future,will,next_month,next_quarter,next_year,next_fiscal,next_period,upcoming_month,coming_month,coming_quarter,coming_year,coming_fiscal,\n",
    "subsequent_month,subsequent_quarter,subsequent_year,subsequent_fiscal,following_month,following_quarter,following_year,following_fiscal"
   ]
  },
  {
   "cell_type": "code",
   "execution_count": 73,
   "metadata": {
    "scrolled": false
   },
   "outputs": [
    {
     "data": {
      "text/plain": [
       "'Edgar 10k MD&A Extractor\\nUsage:\\n    EdgarSearch.py download [options]\\n    EdgarSearch.py mdatool [options] --keywords=keyword1,keyword2,keyword_with_spaces\\n    EdgarSearch.py 10ktool [options] --keywords=keyword1,keyword2,keyword_with_spaces\\n\\n'"
      ]
     },
     "execution_count": 73,
     "metadata": {},
     "output_type": "execute_result"
    }
   ],
   "source": [
    "\"\"\"Edgar 10k MD&A Extractor\n",
    "Usage:\n",
    "    EdgarSearch.py download [options]\n",
    "    EdgarSearch.py mdatool [options] --keywords=keyword1,keyword2,keyword_with_spaces\n",
    "    EdgarSearch.py 10ktool [options] --keywords=keyword1,keyword2,keyword_with_spaces\n",
    "\n",
    "\"\"\""
   ]
  },
  {
   "cell_type": "code",
   "execution_count": 65,
   "metadata": {},
   "outputs": [],
   "source": [
    "import csv\n",
    "import itertools\n",
    "import os\n",
    "import re\n",
    "import time\n",
    "import random"
   ]
  },
  {
   "cell_type": "markdown",
   "metadata": {},
   "source": [
    "We download 'random' to the file for what mean seem not a very intuitive reason. Random, namely, chooses a variables between 0.5 and 2 seconds between each request-for-data to the online EDGAR database. The reason is that EDGAR, alike other online databases, is wary of receiving DDOS-attacks and the proxy for EDGAR to decide upon a DDOS-attack is the frequency of requests within some short amount of time.\n",
    "\n",
    "By running our code, we spit out over thousands of requests towards the EDGAR database in order to retrieve the MD&As for our relevant quarters (1994-2017). Hence, in order not to become victim of this DDOS suspicion, we need to circumvent it by randomzing the time between our requests."
   ]
  },
  {
   "cell_type": "code",
   "execution_count": 66,
   "metadata": {
    "scrolled": true
   },
   "outputs": [],
   "source": [
    "import unicodedata\n",
    "from collections import namedtuple\n",
    "from glob import glob\n",
    "\n",
    "import requests\n",
    "from bs4 import BeautifulSoup\n",
    "from docopt import docopt"
   ]
  },
  {
   "cell_type": "markdown",
   "metadata": {},
   "source": [
    "The relevant URLs for downloading the files are:"
   ]
  },
  {
   "cell_type": "code",
   "execution_count": 67,
   "metadata": {},
   "outputs": [],
   "source": [
    "SEC_GOV_URL = 'https://www.sec.gov/Archives'\n",
    "FORM_INDEX_URL = (SEC_GOV_URL+'/'+'edgar'+'/'+'full-index'+'/'+'{}'+'/'+'QTR{}'+'/'+'form.idx')\n",
    "IndexRecord = namedtuple(\n",
    "    \"IndexRecord\", [\"form_type\", \"company_name\", \"cik\", \"date_filed\", \"filename\",'filed_date'])"
   ]
  },
  {
   "cell_type": "markdown",
   "metadata": {},
   "source": [
    "We now parse the row to records."
   ]
  },
  {
   "cell_type": "code",
   "execution_count": 68,
   "metadata": {},
   "outputs": [],
   "source": [
    "def parse_row_to_record(row, fields_begin, year):\n",
    "    record = []\n",
    "    for begin, end in zip(fields_begin[:], fields_begin[1:] + [len(row)]):\n",
    "        field = row[begin:end].rstrip()\n",
    "        field = field.strip('\\\"')\n",
    "        record.append(field)\n",
    "    record.append('0')\n",
    "    faod = record[3]\n",
    "    record[5] = faod\n",
    "    record[3] = year\n",
    "    return record"
   ]
  },
  {
   "cell_type": "markdown",
   "metadata": {},
   "source": [
    "We then download and extract the index files. \n",
    "\n",
    "We noticed that the quarter 4 of 2011 and quarter 3 of 2017 were not downloaded by the script, meaning we had to download data from those quarters apart from the rest."
   ]
  },
  {
   "cell_type": "code",
   "execution_count": 69,
   "metadata": {},
   "outputs": [],
   "source": [
    "def download_and_extract_index(opt):\n",
    "    index_dir = opt[\"--index-dir\"]\n",
    "    if not os.path.exists(index_dir):\n",
    "        os.makedirs(index_dir)\n",
    "\n",
    "    year_start = int(opt[\"--year-start\"])\n",
    "    year_end = int(opt[\"--year-end\"])\n",
    "    \n",
    "    for year, qtr in itertools.product(range(year_start, year_end+1), range(1, 5)):\n",
    "\n",
    "        form_idx = \"{}_qtr{}.index\".format(year, qtr)\n",
    "        form_idx_path = os.path.join(index_dir, form_idx)\n",
    "        index_url = FORM_INDEX_URL.format(year, qtr)\n",
    "        file_error = 0\n",
    "        if not os.path.exists(form_idx_path):\n",
    "            if year == 2011 and qtr == 4 :\n",
    "                print('[*] 2011 quarter 4 backup not found, please move it from /Edgar/Index/Backup to /Edgar/Index/')\n",
    "                file_error += 1\n",
    "            elif year == 2017 and qtr == 3 :\n",
    "                print('[*] 2017 quarter 3 backup not found, please move it from /Edgar/Index/Backup to /Edgar/Index/!')\n",
    "                file_error += 1\n",
    "            if file_error == 1:\n",
    "                exit(0)\n",
    "            if file_error == 2:\n",
    "                print(\"Both included files not found, please move them from /Edgar/Index/Backup to /Edgar/Index/\")\n",
    "                exit(0)\n",
    "            try:\n",
    "                print(\"[*] Downloading file : {}\".format(index_url))\n",
    "                res = requests.get(index_url,timeout=10)\n",
    "                if res.status_code != requests.codes.OK:\n",
    "                    raise Exception\n",
    "                with open(form_idx_path, 'w') as fout:\n",
    "                    txt = res.text\n",
    "                    fout.write(txt)\n",
    "                    \n",
    "            except(ConnectionError,requests.RequestException) as e:\n",
    "                print('[!] Download failed for - {} Connection error!'.format(index_url) + str(e))\n",
    "            except:\n",
    "                print(\"[!] Download failed - {}\".format(index_url))\n",
    "        else:\n",
    "        # The server won't send two specific files, they are included with the script for completion\n",
    "            if year == 2011 and qtr == 4 :\n",
    "                print('[*] Found 2011 quarter 4 backup!')\n",
    "            elif year == 2017 and qtr == 3 :\n",
    "                print('[*] Foud 2017 quarter 3 backup!')\n",
    "            else :\n",
    "                print('[*] Already got file {} Not downloading again'.format(form_idx_path))\n",
    "                \n",
    "    print(\"[i] Finished downloading the index files\")\n",
    "\n",
    "    records = []\n",
    "    for index_file in sorted(glob(os.path.join(index_dir, \"*.index\"))):\n",
    "        print(\"[i] Extracting 10K filings from {}\".format(index_file))\n",
    "\n",
    "        with open(index_file, 'r',encoding = \"ISO-8859-1\") as fin:\n",
    "            arrived = False\n",
    "            spacing = opt[\"--index-dir\"]\n",
    "            start = 1 + len(spacing)\n",
    "            CYEAR = index_file[start:start + 4]\n",
    "            for row in fin.readlines():\n",
    "                if row.startswith(\"Form Type\"):\n",
    "                    fields_begin = [row.find(\"Form Type\"),\n",
    "                                    row.find(\"Company Name\"),\n",
    "                                    row.find('CIK'),\n",
    "                                    row.find('Date Filed'),\n",
    "                                    row.find(\"File Name\")]\n",
    "\n",
    "                elif row.startswith(\"10-K \"):\n",
    "                    arrived = True\n",
    "                    rec = parse_row_to_record(row, fields_begin, CYEAR)\n",
    "                    records.append(IndexRecord(*rec))\n",
    "\n",
    "                elif arrived == True:\n",
    "                    break\n",
    "                    \n",
    "    index_10k_path = opt[\"--index-10k-path\"]\n",
    "    with open(index_10k_path, 'w') as fout:\n",
    "        writer = csv.writer(fout, delimiter=',',\n",
    "                            quotechar='\\\"', quoting=csv.QUOTE_ALL)\n",
    "        for rec in records:\n",
    "            writer.writerow(tuple(rec))"
   ]
  },
  {
   "cell_type": "markdown",
   "metadata": {},
   "source": [
    "We then download the 10-K filings."
   ]
  },
  {
   "cell_type": "code",
   "execution_count": 70,
   "metadata": {},
   "outputs": [],
   "source": [
    "def download_10k(opt):\n",
    "    print(\"[i] Downloading the 10K filings\")\n",
    "    index_10k_path = opt[\"--index-10k-path\"]\n",
    "    if not (os.path.exists(index_10k_path)):\n",
    "        print(\"[i] File {} doesn't exist, something went wrong!\".format(index_10k_path))\n",
    "    form10k_dir = opt[\"--10k-dir\"]\n",
    "    if not os.path.exists(form10k_dir):\n",
    "        os.makedirs(form10k_dir)\n",
    "    count = 0\n",
    "    with open(index_10k_path, 'r') as fin:\n",
    "        reader = csv.reader(\n",
    "            fin, delimiter=',')\n",
    "        for row in reader:\n",
    "            if(row and row != None):\n",
    "                CIK = row[2]\n",
    "                YEAR = row[3]\n",
    "                FILEDASOFDATE = row[5]\n",
    "                COMPANY_NAME = row[1].replace(\" \", '').replace(\"/\",'')\n",
    "                _, _, _, _, filename, _ = row\n",
    "                fname = COMPANY_NAME + \"_\" + CIK +\"_\"+ YEAR + \"_\"+FILEDASOFDATE+\".txt\"\n",
    "                text_path = os.path.join(form10k_dir,fname)\n",
    "                if not os.path.exists(text_path):\n",
    "                    url = os.path.join(SEC_GOV_URL, filename).replace(\"\\\\\", \"/\")\n",
    "                    try:\n",
    "                        res = requests.get(url,timeout=10)\n",
    "                        soup = BeautifulSoup(res.content, 'lxml')\n",
    "                        text = soup.get_text(\"\\n\")\n",
    "                        text2 = re.sub('[^a-zA-Z0-9.,:\\n\\t\\b]',' ',text)\n",
    "                        with open(text_path, 'w') as fout:\n",
    "                            fout.write(text2)\n",
    "                        #Sleeping between 0.5 and 2 seconds to prevent being detected as a bot by the server.\n",
    "                        anti_bot = random.uniform(0.5, 2)\n",
    "                        time.sleep(anti_bot)\n",
    "\n",
    "                    except Exception as e:\n",
    "                        print(\"[!] Couldn't download 10K file - {} - {}\".format(url, e))\n",
    "                else:\n",
    "                    pass"
   ]
  },
  {
   "cell_type": "markdown",
   "metadata": {},
   "source": [
    "As we're interested in the specific MD&A parts within the larger 10-K filings, we specifically fetch these."
   ]
  },
  {
   "cell_type": "code",
   "execution_count": 71,
   "metadata": {},
   "outputs": [],
   "source": [
    "def extract_mda(opt, keyword_list):\n",
    "    print(\"[i] Extracting MDA's\")\n",
    "    form10k_dir = opt[\"--10k-dir\"]\n",
    "    assert os.path.exists(form10k_dir)\n",
    "    mda_dir = opt[\"--mda-dir\"]\n",
    "    if not os.path.exists(mda_dir):\n",
    "        os.makedirs(mda_dir)\n",
    "    records = []\n",
    "    records.append(['NAME','CIK','YEAR', 'FILEDASOFDATE','TOTALWORDS'])\n",
    "    for keyword in keyword_list:\n",
    "        records[0].append(keyword.upper())\n",
    "    print(\"[i] CSV columns :\" + str(records))\n",
    "    for form10k_file in sorted(glob(os.path.join(form10k_dir, \"*.txt\"))):\n",
    "        path_info = form10k_file.split(\"_\")\n",
    "        YEAR = path_info[2]\n",
    "        NAME = path_info[0][len(form10k_dir) +1:]\n",
    "        CIK = path_info[1]\n",
    "        filedasofdate = path_info[3][:-4]\n",
    "        row = [NAME,CIK,YEAR,'0','0']\n",
    "        # Read form 10k\n",
    "        with open(form10k_file, 'r') as fin:\n",
    "            text = fin.read()\n",
    "        # Normalize\n",
    "        text = normalize_text(text)\n",
    "        \n",
    "        # Find the MDA section\n",
    "        mda, end = parse_mda(text)\n",
    "        # Parse for a second time if needed\n",
    "        if mda and len(mda.encode('utf-8')) < 1000:\n",
    "            mda, _ = parse_mda(text, start=end)"
   ]
  },
  {
   "cell_type": "markdown",
   "metadata": {},
   "source": [
    "In the final step of this data gathering, we focus on the keywords supplied in the Introduction - namely, those which include future-oriented language. We then perform a word count to find exactly how much future-oriented language was used in the MD&A per firm."
   ]
  },
  {
   "cell_type": "code",
   "execution_count": 156,
   "metadata": {
    "scrolled": false
   },
   "outputs": [
    {
     "ename": "IndentationError",
     "evalue": "expected an indented block (<ipython-input-156-4dd818b530cf>, line 30)",
     "output_type": "error",
     "traceback": [
      "\u001b[1;36m  File \u001b[1;32m\"<ipython-input-156-4dd818b530cf>\"\u001b[1;36m, line \u001b[1;32m30\u001b[0m\n\u001b[1;33m    writer = csv.writer(fout, delimiter=',', quotechar='\\\"', quoting=csv.QUOTE_ALL)\u001b[0m\n\u001b[1;37m                                                                                   ^\u001b[0m\n\u001b[1;31mIndentationError\u001b[0m\u001b[1;31m:\u001b[0m expected an indented block\n"
     ]
    }
   ],
   "source": [
    "        if mda:\n",
    "            #If the MDA was found, we'll search for the supplied keywords and the MDA will be extracted to a new file\n",
    "            filename = os.path.basename(form10k_file)\n",
    "            name, ext = os.path.splitext(filename)\n",
    "            mda_name = (name + \".mda\")\n",
    "            mda_path = os.path.join(opt[\"--mda-dir\"], mda_name)\n",
    "            if not os.path.exists(mda_path):\n",
    "                with open(mda_path, 'w') as fout:\n",
    "                    fout.write(mda)\n",
    "            wordcount = []\n",
    "            num_keywords = 0\n",
    "            for keyword in keyword_list:\n",
    "                num_keywords += 1\n",
    "                if \" \" in keyword:\n",
    "                    wordcount.append(count_words_sentence(mda.lower(), keyword))\n",
    "                else:\n",
    "                    wordcount.append(count_words(mda.lower(), keyword))\n",
    "            totalwords = mda.split()\n",
    "            totalcount = 0\n",
    "            for word in totalwords:\n",
    "                totalcount += 1\n",
    "            row[4] = totalcount\n",
    "            row[3] = filedasofdate\n",
    "            for i in range(0,num_keywords):\n",
    "                row.append(wordcount[i])\n",
    "            records.append(row)\n",
    "    print(\"[!] Extracted all MDA's!\")\n",
    "    data_path = opt[\"--mda-keyword-path\"]\n",
    "    with open(data_path, 'w') as fout:\n",
    "        writer = csv.writer(fout, delimiter=',', quotechar='\\\"', quoting=csv.QUOTE_ALL)\n",
    "        for rec in records:\n",
    "            writer.writerow(tuple(rec))\n",
    "    print(\"[*] All done! Keyword files can be found here: \" + data_path)\n",
    "\n",
    "def normalize_text(text):\n",
    "    #normalizing the text\n",
    "    text = unicodedata.normalize(\"NFKD\", text)  # Normalize\n",
    "    text = '\\n'.join(\n",
    "        text.splitlines())  # Let python take care of unicode break lines\n",
    "\n",
    "    # Convert to uppercase\n",
    "    text = text.upper()  # Convert to upper\n",
    "\n",
    "    # Removing linebreaks and whitespaces\n",
    "    text = re.sub(r'[ ]+\\n', '\\n', text)\n",
    "    text = re.sub(r'\\n[ ]+', '\\n', text)\n",
    "    text = re.sub(r'\\n+', '\\n', text)\n",
    "\n",
    "    # To find MDA section, reformat item headers\n",
    "    text = text.replace('\\n.\\n', '.\\n')\n",
    "\n",
    "    text = text.replace('\\nI\\nTEM', '\\nITEM')\n",
    "    text = text.replace('\\nITEM\\n', '\\nITEM ')\n",
    "    text = text.replace('\\nITEM  ', '\\nITEM ')\n",
    "\n",
    "    text = text.replace(':\\n', '.\\n')\n",
    "\n",
    "    # Replace symbols\n",
    "    text = text.replace('$\\n', '$')\n",
    "    text = text.replace('\\n%', '%')\n",
    "\n",
    "    # Reformat\n",
    "    text = text.replace('\\n', '\\n\\n')\n",
    "\n",
    "    return text\n",
    "\n",
    "def count_words(text, keyword):\n",
    "    #Counts keywords in text and returns count\n",
    "    count = 0\n",
    "    text = text.split()\n",
    "    for word in text:\n",
    "        word.lower()\n",
    "        if word == keyword:\n",
    "            count += 1\n",
    "    return count\n",
    "\n",
    "def count_words_sentence(text, keyword):\n",
    "    #Counts keywords with spaces and returns the count\n",
    "    count = 0\n",
    "    text = text.replace(\"\\n\", \".\")\n",
    "    text = text.split('.')\n",
    "    for line in text:\n",
    "        if keyword in line:\n",
    "            count += 1\n",
    "    return count\n",
    "\n",
    "\n",
    "def parse_mda(text, start=0):\n",
    "    #Parses the MDA section\n",
    "    mda = \"\"\n",
    "    end = 0\n",
    "\n",
    "    item7_starts = ['\\nITEM 7.', '\\nITEM 7 –', '\\nITEM 7:', '\\nITEM 7 ', '\\nITEM 7\\n']\n",
    "    item7_ends = ['\\nITEM 7A']\n",
    "    if start != 0:\n",
    "        item7_ends.append('\\nITEM 7')\n",
    "    item8_starts = ['\\nITEM 8']\n",
    "    text = text[start:]\n",
    "\n",
    "    # Get start\n",
    "    for item7 in item7_starts:\n",
    "        start = text.find(item7)\n",
    "        if start != -1:\n",
    "            break\n",
    "\n",
    "    if start != -1:\n",
    "        for item7A in item7_ends:\n",
    "            end = text.find(item7A, start + 1)\n",
    "            if end != -1:\n",
    "                break\n",
    "\n",
    "        if end == -1:\n",
    "            for item8 in item8_starts:\n",
    "                end = text.find(item8, start + 1)\n",
    "                if end != -1:\n",
    "                    break\n",
    "\n",
    "        if end > start:\n",
    "            mda = text[start:end].strip()\n",
    "        else:\n",
    "            end = 0\n",
    "\n",
    "    return mda, end\n",
    "\n",
    "\n",
    "if __name__ == \"__main__\":\n",
    "    #Main function\n",
    "    opt = docopt(__doc__)\n",
    "    print('[*] Welcome mister Boone! ')\n",
    "    keyword_arguments = opt[\"--keywords\"].lower()\n",
    "    keywords = keyword_arguments.replace(\"_\",\" \").split(',')\n",
    "    keyword_list = []\n",
    "    for keyword in keywords:\n",
    "        keyword_list.append(keyword)\n",
    "    if opt[\"download\"]:\n",
    "        #Download all files\n",
    "        print(\"[i] Downloading all files - this might take some time.\")\n",
    "        download_and_extract_index(opt)\n",
    "        download_10k(opt)\n",
    "        print(\"[*] Downloads complete!\")\n",
    "    elif opt[\"mdatool\"]:\n",
    "        #Extract mda and search for keywords\n",
    "        extract_mda(opt, keyword_list)\n",
    "    elif opt[\"10ktool\"]:\n",
    "        #Search for keywords in the entire 10K filings\n",
    "        wordcount_10k(opt, keyword_list)\n",
    "    print(\"[*] Thank you for checking the 10-K filings. We hope you have become inspired.\")\n"
   ]
  },
  {
   "cell_type": "markdown",
   "metadata": {},
   "source": [
    "### b) Creating insights"
   ]
  },
  {
   "cell_type": "markdown",
   "metadata": {},
   "source": [
    "After some thorough data scraping, we now enter the fun part: creating insights! We use the pandas framework to work with our data."
   ]
  },
  {
   "cell_type": "code",
   "execution_count": 93,
   "metadata": {},
   "outputs": [],
   "source": [
    "import pandas as pd\n",
    "import statsmodels.api as sm\n",
    "import numpy as np\n",
    "import matplotlib.pyplot as plt"
   ]
  },
  {
   "cell_type": "markdown",
   "metadata": {},
   "source": [
    "We then import lists (as CSV files). The keyword list is directly downloaded from the previous script. The GDP file is downloaded from https://data.worldbank.org/indicator/NY.GDP.MKTP.KD.ZG?locations=US."
   ]
  },
  {
   "cell_type": "code",
   "execution_count": 97,
   "metadata": {
    "scrolled": true
   },
   "outputs": [],
   "source": [
    "keywords_df = pd.read_csv(\"C:/Users/jerom/OneDrive/Documenten/Python/CSVreader/Keywords.csv\")\n",
    "gdp_df = pd.read_csv(\"C:/Users/jerom/OneDrive/Documenten/Python/CSVreader/gdp.csv\")"
   ]
  },
  {
   "cell_type": "markdown",
   "metadata": {},
   "source": [
    "In total, we obtain a whopping 146,292 observations. However, we find there to be 1,442 duplicate observations in the keywords dataframe, meaning we drop those duplicate observations. The dataset now contains 144,850 observations."
   ]
  },
  {
   "cell_type": "code",
   "execution_count": 98,
   "metadata": {},
   "outputs": [],
   "source": [
    "duplicates_df = keywords_df[keywords_df.duplicated(['CIK', 'YEAR'])]\n",
    "keywords_df.drop_duplicates(['CIK', 'YEAR'], keep = 'first', inplace=True)"
   ]
  },
  {
   "cell_type": "markdown",
   "metadata": {},
   "source": [
    "Totals per column are calculated in order to get a total nominal amount of future-oriented words, which is then divided by the total lenght of the MD&A to construct a relative variable. "
   ]
  },
  {
   "cell_type": "code",
   "execution_count": 99,
   "metadata": {},
   "outputs": [
    {
     "name": "stdout",
     "output_type": "stream",
     "text": [
      "0.38878360326870604\n"
     ]
    }
   ],
   "source": [
    "keywords_df.loc[:,'Total'] = keywords_df.iloc[:,5:25].sum(axis=1)\n",
    "keywords_df.loc[:,'Percfuture'] = keywords_df['Total']/keywords_df['TOTALWORDS'] *100\n",
    "print(np.mean(keywords_df['Percfuture']))"
   ]
  },
  {
   "cell_type": "markdown",
   "metadata": {},
   "source": [
    "dAta is sorted based on a Central Identifier Key (CIK) and year. We lag the newly created variable percfuture by one year because the MD&A is always being published a few months after the fiscal year ended."
   ]
  },
  {
   "cell_type": "code",
   "execution_count": 100,
   "metadata": {},
   "outputs": [
    {
     "name": "stdout",
     "output_type": "stream",
     "text": [
      "0.38260306483172085\n"
     ]
    }
   ],
   "source": [
    "keywords_df.sort_values([\"CIK\",'YEAR'])\n",
    "keywords_df.loc[:,'Percfuturelag'] = keywords_df.groupby('CIK')['Percfuture'].shift(1)\n",
    "print(np.mean(keywords_df['Percfuturelag']))"
   ]
  },
  {
   "cell_type": "markdown",
   "metadata": {},
   "source": [
    "The dataframe is merged on a many-to-one basis with the GDP dataframe."
   ]
  },
  {
   "cell_type": "code",
   "execution_count": 101,
   "metadata": {},
   "outputs": [],
   "source": [
    "merged_df = pd.merge(keywords_df, gdp_df, on ='YEAR')\n",
    "merged_df[\"gdpgrowth\"] = merged_df[\"gdpgrowth\"]*100"
   ]
  },
  {
   "cell_type": "markdown",
   "metadata": {},
   "source": [
    "We now obtain a visual analysis and some descriptive statistics. The plot hows the average percentage of future orienation of MD&A over the years."
   ]
  },
  {
   "cell_type": "code",
   "execution_count": 149,
   "metadata": {
    "scrolled": true
   },
   "outputs": [
    {
     "data": {
      "image/png": "[encoded data removed]",
      "text/plain": [
       "<Figure size 720x360 with 1 Axes>"
      ]
     },
     "metadata": {
      "needs_background": "light"
     },
     "output_type": "display_data"
    }
   ],
   "source": [
    "avg_percfuture = merged_df.groupby('YEAR')['Percfuturelag'].agg('mean')\n",
    "avg_percfuture.plot(figsize=(10,5))\n",
    "plt.title('GDP and future-oriented language')\n",
    "plt.ylabel('percfuture')\n",
    "plt.show()"
   ]
  },
  {
   "cell_type": "markdown",
   "metadata": {},
   "source": [
    "In order to prevent a year-related bias, we also plot the GDP developments independent of future-oriented language. The below graph clearly shows there is something going on: the major economic rise pre- and post-crises, first because of the Dotcom bubble and second because of the sub-prime mortgage crisis."
   ]
  },
  {
   "cell_type": "code",
   "execution_count": 150,
   "metadata": {
    "scrolled": false
   },
   "outputs": [
    {
     "data": {
      "image/png": "[encoded data removed]",
      "text/plain": [
       "<Figure size 720x360 with 1 Axes>"
      ]
     },
     "metadata": {
      "needs_background": "light"
     },
     "output_type": "display_data"
    }
   ],
   "source": [
    "merged_df.plot(figsize=(10,5), x='YEAR', y='gdpgrowth', kind='scatter')\n",
    "plt.title('GDP and future-oriented language')\n",
    "plt.show()"
   ]
  },
  {
   "cell_type": "markdown",
   "metadata": {},
   "source": [
    "Finally, we obtain a table of descriptive statistics. It shows us that the shortest MD&A file consists of only 4 words, while the longest one embodies 295987 words - quite a difference. The average MD&A file consists of 6249 words. As for the variable percfuturelag: in one report, 3.93% of the entire report consists of future-oriented language which is the maximum. There average report is .34% of future-oriented language, meaning there is one future-oriented term per 300 words.\n",
    "\n",
    "In the 'Total' section, we find that the average report has 28 future-oriented terms in it, and the maximum 581."
   ]
  },
  {
   "cell_type": "code",
   "execution_count": 131,
   "metadata": {
    "scrolled": false
   },
   "outputs": [
    {
     "name": "stdout",
     "output_type": "stream",
     "text": [
      "          TOTALWORDS  Percfuturelag      gdpgrowth          Total\n",
      "count  144850.000000  121527.000000  144850.000000  144850.000000\n",
      "mean     7886.431253       0.382603       0.023043      28.278398\n",
      "std      7444.316228       0.262373       0.024721      27.160645\n",
      "min         4.000000       0.000000      -0.029162       0.000000\n",
      "25%      2835.000000       0.230080       0.016015      11.000000\n",
      "50%      6249.000000       0.341297       0.025319      22.000000\n",
      "75%     10853.750000       0.479335       0.037857      38.000000\n",
      "max    295987.000000       3.932584       0.097598     581.000000\n"
     ]
    }
   ],
   "source": [
    "Descriptives_df = merged_df[[\"TOTALWORDS\",\"Percfuturelag\",\"gdpgrowth\",\"Total\"]]\n",
    "print(Descriptives_df.describe(include='all'))"
   ]
  },
  {
   "cell_type": "markdown",
   "metadata": {},
   "source": [
    "We run a univariate analysis to estimate the causal effect of macro-economic conditions on management tone of voice. A causal interpretation is warranted, as we deal with (as-good-as) random variation into GDP developments. In order to estimate a constant for OLS regression, the value of 1 is added to the merged dataframe. Furthermore, year dummies are added."
   ]
  },
  {
   "cell_type": "code",
   "execution_count": 114,
   "metadata": {},
   "outputs": [],
   "source": [
    "merged_df.loc[:,'Constant']=1\n",
    "dummies_df = pd.get_dummies(merged_df, columns= ['YEAR'])\n",
    "mergedplusdummies_df = pd.merge(merged_df, dummies_df)"
   ]
  },
  {
   "cell_type": "markdown",
   "metadata": {},
   "source": [
    "To avoid a dummy trap, we ommit the first year. Hence, the dummy coefficient output of univariate analysis is estimated relative to the omitted year 1994."
   ]
  },
  {
   "cell_type": "code",
   "execution_count": 158,
   "metadata": {
    "scrolled": true
   },
   "outputs": [
    {
     "name": "stdout",
     "output_type": "stream",
     "text": [
      "                            OLS Regression Results                            \n",
      "==============================================================================\n",
      "Dep. Variable:          Percfuturelag   R-squared:                       0.023\n",
      "Model:                            OLS   Adj. R-squared:                  0.022\n",
      "Method:                 Least Squares   F-statistic:                     79.66\n",
      "Date:                Sat, 19 Jan 2019   Prob (F-statistic):               0.00\n",
      "Time:                        17:59:43   Log-Likelihood:                -8451.8\n",
      "No. Observations:              121527   AIC:                         1.695e+04\n",
      "Df Residuals:                  121503   BIC:                         1.718e+04\n",
      "Df Model:                          23                                         \n",
      "Covariance Type:              cluster                                         \n",
      "==============================================================================\n",
      "                 coef    std err          z      P>|z|      [0.025      0.975]\n",
      "------------------------------------------------------------------------------\n",
      "gdpgrowth     -5.0665      0.868     -5.834      0.000      -6.768      -3.365\n",
      "Constant       0.5070      0.021     24.671      0.000       0.467       0.547\n",
      "YEAR_1995     -0.1088      0.009    -12.612      0.000      -0.126      -0.092\n",
      "YEAR_1996     -0.0336      0.014     -2.409      0.016      -0.061      -0.006\n",
      "YEAR_1997      0.0353      0.019      1.824      0.068      -0.003       0.073\n",
      "YEAR_1998      0.0566      0.019      2.981      0.003       0.019       0.094\n",
      "YEAR_1999      0.1082      0.021      5.149      0.000       0.067       0.149\n",
      "YEAR_2000      0.1074      0.016      6.688      0.000       0.076       0.139\n",
      "YEAR_2001      0.3462      0.065      5.360      0.000       0.220       0.473\n",
      "YEAR_2002     -0.0651      0.007     -9.669      0.000      -0.078      -0.052\n",
      "YEAR_2003     -0.0026      0.006     -0.446      0.656      -0.014       0.009\n",
      "YEAR_2004      0.0205      0.013      1.551      0.121      -0.005       0.046\n",
      "YEAR_2005      0.0103      0.010      1.072      0.284      -0.009       0.029\n",
      "YEAR_2006     -0.1383      0.020     -6.778      0.000      -0.178      -0.098\n",
      "YEAR_2007     -0.0705      0.006    -11.535      0.000      -0.083      -0.059\n",
      "YEAR_2008     -0.3220      0.046     -7.039      0.000      -0.412      -0.232\n",
      "YEAR_2009     -0.2606      0.045     -5.855      0.000      -0.348      -0.173\n",
      "YEAR_2010      0.0651      0.005     13.995      0.000       0.056       0.074\n",
      "YEAR_2011      0.0031      0.007      0.412      0.680      -0.012       0.018\n",
      "YEAR_2012      0.0307      0.004      7.791      0.000       0.023       0.038\n",
      "YEAR_2013      0.0049      0.007      0.736      0.462      -0.008       0.018\n",
      "YEAR_2014      0.0401      0.004      9.671      0.000       0.032       0.048\n",
      "YEAR_2015      0.0451      0.006      7.834      0.000       0.034       0.056\n",
      "YEAR_2016     -0.0322      0.008     -4.274      0.000      -0.047      -0.017\n",
      "==============================================================================\n",
      "Omnibus:                    52299.423   Durbin-Watson:                   1.796\n",
      "Prob(Omnibus):                  0.000   Jarque-Bera (JB):           388421.971\n",
      "Skew:                           1.912   Prob(JB):                         0.00\n",
      "Kurtosis:                      10.879   Cond. No.                     1.62e+03\n",
      "==============================================================================\n",
      "\n",
      "Warnings:\n",
      "[1] Standard Errors are robust tocluster correlation (cluster)\n",
      "[2] The condition number is large, 1.62e+03. This might indicate that there are\n",
      "strong multicollinearity or other numerical problems.\n"
     ]
    }
   ],
   "source": [
    "mergedplusdummies_df.drop(columns = ['YEAR_1994'])\n",
    "data_df=mergedplusdummies_df.loc[:,['Percfuturelag','gdpgrowth','Constant','YEAR_1995','YEAR_1996','YEAR_1997','YEAR_1998','YEAR_1999','YEAR_2000','YEAR_2001','YEAR_2002','YEAR_2003','YEAR_2004','YEAR_2005','YEAR_2006','YEAR_2007','YEAR_2008','YEAR_2009','YEAR_2010','YEAR_2011','YEAR_2012','YEAR_2013','YEAR_2014','YEAR_2015','YEAR_2016','CIK']].dropna(how='any')\n",
    "reg1= sm.OLS(endog=data_df['Percfuturelag'], exog=data_df[['gdpgrowth','Constant','YEAR_1995','YEAR_1996','YEAR_1997','YEAR_1998','YEAR_1999','YEAR_2000','YEAR_2001','YEAR_2002','YEAR_2003','YEAR_2004','YEAR_2005','YEAR_2006','YEAR_2007','YEAR_2008','YEAR_2009','YEAR_2010','YEAR_2011','YEAR_2012','YEAR_2013','YEAR_2014','YEAR_2015','YEAR_2016']],missing='drop')\n",
    "results = reg1.fit(cov_type = 'cluster', cov_kwds= {'groups':data_df['CIK']})\n",
    "print(results.summary())"
   ]
  },
  {
   "cell_type": "markdown",
   "metadata": {},
   "source": [
    "[1] We clustered standard errors by CIK to control for serial correlation of future-oriented words in firms' year-to-year MD&A, which would result in an underestimation of these standard errors. \n",
    "[2] Although we receive a warning for multicollinearity, this is no issue in this case. We use a univariate analysis complemented by some year dummies, meaning there is by definition no risk of correlation. There are no other independent variables which can be correlated either - hence, there is no risk of multicollinearity."
   ]
  },
  {
   "cell_type": "markdown",
   "metadata": {},
   "source": [
    "# Limitations"
   ]
  },
  {
   "cell_type": "markdown",
   "metadata": {},
   "source": [
    "We distinguish between two key limitations within this small research. \n",
    "\n",
    "First, the explanatory power of the regression is likely to be rather small. We obtain a fairly low R-squared, which is not strange as use only one variable to indice a relationship. Effectively, this means that our dependent variable explains only to a very limited extent the variability of the real data. Why shouldn't this figure be larger? Because although the two may correlate, it could never be the case that Firm X is so strongly dependent on the GDP developments in using future-oriented language, and vice versa.\n",
    "\n",
    "This brings us to the second aspect: the direction of the relationship is unknown. Although we happen to find a significant effect between GDP developments and future-oriented language, our analysis is not able to tell the direction of the relationship: which is the dependent variable, which is the independent variable? In the introduction, we assumed that if there is a relationship, it would be from GDP developments towards the use of future-oriented language. We make this assumption because of two key reasons. First, the economy as a whole is much more likely to have effect effect on a single firm than the other way around. Second, and even more obvious, we interpret language use in MD&As following a fiscal year, rather than preceding it. In other words, GDP developments in t are the first mover; MD&As reports (and any) future-oriented language thereof, is the second mover."
   ]
  },
  {
   "cell_type": "markdown",
   "metadata": {},
   "source": [
    "# Conclusion"
   ]
  },
  {
   "cell_type": "markdown",
   "metadata": {},
   "source": [
    "To conclude, we have indeed found a statistically significant effect between GDP developments and future-oriented language used in MD&As. Our recommendation for future research derives from the points which we would like more information on. \n",
    "\n",
    "Primarily, this concerns the strength of the effect between GDP developments and future-oriented language in MD&As. Is the latter indeed a solid predictor for the former, or is there a (number of) variable(s) with more predictive power? More precisely, would we obtain a stronger relationship if we consider the influence of firm-specific aspects on future-oriented language - are managers trying to deflect negative results in 2017 by talking about the future in their 2018 MD&A? Related to this point, what if we focus on the exact nature of the future-oriented language, namely of it being positive or negative? Are managers more likely to paint a negative prospect following a year of disappointed (macro- or firm-)developments, or will they seek the positive tone of voice?\n",
    "\n",
    "These factors are food for thought in future research."
   ]
  },
  {
   "cell_type": "code",
   "execution_count": null,
   "metadata": {},
   "outputs": [],
   "source": []
  }
 ],
 "metadata": {
  "kernelspec": {
   "display_name": "Python 3",
   "language": "python",
   "name": "python3"
  },
  "language_info": {
   "codemirror_mode": {
    "name": "ipython",
    "version": 3
   },
   "file_extension": ".py",
   "mimetype": "text/x-python",
   "name": "python",
   "nbconvert_exporter": "python",
   "pygments_lexer": "ipython3",
   "version": "3.7.1"
  }
 },
 "nbformat": 4,
 "nbformat_minor": 2
}
